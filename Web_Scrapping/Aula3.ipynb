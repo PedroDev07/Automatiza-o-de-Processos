{
 "cells": [
  {
   "cell_type": "code",
   "execution_count": 20,
   "metadata": {},
   "outputs": [],
   "source": [
    "from selenium import webdriver\n",
    "from selenium.webdriver.common.keys import Keys\n",
    "from selenium.webdriver.common.by import By\n",
    "\n",
    "import pandas as pd\n",
    "df = pd.read_excel(r'C:\\DataBases\\Aula3_Intensive_Python\\Produtos.xlsx')"
   ]
  },
  {
   "cell_type": "code",
   "execution_count": 21,
   "metadata": {},
   "outputs": [
    {
     "name": "stdout",
     "output_type": "stream",
     "text": [
      "         Produtos  Preço Original  Moeda  Cotação  Preço de Compra  Margem  \\\n",
      "0    Câmera Canon          999.99  Dólar        5          4999.95    1.40   \n",
      "1   Carro Renault         4500.00   Euro        6         27000.00    2.00   \n",
      "2   Notebook Dell          899.99  Dólar        5          4499.95    1.70   \n",
      "3          IPhone          799.00  Dólar        5          3995.00    1.70   \n",
      "4      Carro Fiat         3000.00   Euro        6         18000.00    1.90   \n",
      "5  Celular Xiaomi          480.48  Dólar        5          2402.40    2.00   \n",
      "6        Joia 20g           20.00   Ouro      350          7000.00    1.15   \n",
      "\n",
      "   Preço de Venda  \n",
      "0        6999.930  \n",
      "1       54000.000  \n",
      "2        7649.915  \n",
      "3        6791.500  \n",
      "4       34200.000  \n",
      "5        4804.800  \n",
      "6        8050.000  \n",
      "5.075\n",
      "5.538855000000001\n"
     ]
    }
   ],
   "source": [
    "\n",
    "\n",
    "navegador = webdriver.Chrome()\n",
    "\n",
    "navegador.get(\"https://www.google.com\")\n",
    "navegador.find_element(By.XPATH, \"/html/body/div[1]/div[3]/form/div[1]/div[1]/div[1]/div/div[2]/input\"\n",
    "                       ).send_keys(\"Cotação dólar\", Keys.ENTER)\n",
    "\n",
    "cotacao_dolar = navegador.find_element(By.XPATH,'//*[@id=\"knowledge-currency__updatable-data-column\"]/div[1]/div[2]/span[1]'\n",
    "                                       ).get_attribute('data-value')\n",
    "\n",
    "\n",
    "navegador.get(\"https://www.google.com\")\n",
    "navegador.find_element(By.XPATH, \"/html/body/div[1]/div[3]/form/div[1]/div[1]/div[1]/div/div[2]/input\"\n",
    "                       ).send_keys(\"Cotação euro\", Keys.ENTER)\n",
    "\n",
    "cotacao_euro = navegador.find_element(By.XPATH,'//*[@id=\"knowledge-currency__updatable-data-column\"]/div[1]/div[2]/span[1]'\n",
    "                                       ).get_attribute('data-value')\n",
    "\n",
    "cotacao_euro = cotacao_euro.replace(\".\",\".\")\n",
    "print(df)\n",
    "print(cotacao_dolar)\n",
    "print(cotacao_euro)\n",
    "\n",
    "navegador.quit()\n",
    "\n"
   ]
  },
  {
   "cell_type": "code",
   "execution_count": 23,
   "metadata": {},
   "outputs": [
    {
     "name": "stdout",
     "output_type": "stream",
     "text": [
      "         Produtos  Preço Original  Moeda     Cotação  Preço de Compra  Margem  \\\n",
      "0    Câmera Canon          999.99  Dólar    5.075000          4999.95    1.40   \n",
      "1   Carro Renault         4500.00   Euro    5.538855         27000.00    2.00   \n",
      "2   Notebook Dell          899.99  Dólar    5.075000          4499.95    1.70   \n",
      "3          IPhone          799.00  Dólar    5.075000          3995.00    1.70   \n",
      "4      Carro Fiat         3000.00   Euro    5.538855         18000.00    1.90   \n",
      "5  Celular Xiaomi          480.48  Dólar    5.075000          2402.40    2.00   \n",
      "6        Joia 20g           20.00   Ouro  350.000000          7000.00    1.15   \n",
      "\n",
      "   Preço de Venda  \n",
      "0        6999.930  \n",
      "1       54000.000  \n",
      "2        7649.915  \n",
      "3        6791.500  \n",
      "4       34200.000  \n",
      "5        4804.800  \n",
      "6        8050.000  \n"
     ]
    }
   ],
   "source": [
    "df.loc [df['Moeda']=='Dólar' , 'Cotação'] = float(cotacao_dolar)\n",
    "df.loc [df['Moeda']=='Euro' , 'Cotação'] = float(cotacao_euro)\n",
    "print(df)"
   ]
  },
  {
   "cell_type": "code",
   "execution_count": null,
   "metadata": {},
   "outputs": [],
   "source": []
  }
 ],
 "metadata": {
  "interpreter": {
   "hash": "9f27538263f2b06562ba4c3e17832466b72ccd68c529f4ccd732119dafa958f1"
  },
  "kernelspec": {
   "display_name": "Python 3.10.2 64-bit",
   "language": "python",
   "name": "python3"
  },
  "language_info": {
   "codemirror_mode": {
    "name": "ipython",
    "version": 3
   },
   "file_extension": ".py",
   "mimetype": "text/x-python",
   "name": "python",
   "nbconvert_exporter": "python",
   "pygments_lexer": "ipython3",
   "version": "3.10.2"
  },
  "orig_nbformat": 4
 },
 "nbformat": 4,
 "nbformat_minor": 2
}
